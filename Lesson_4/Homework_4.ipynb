{
 "cells": [
  {
   "cell_type": "raw",
   "id": "85390f84-7a9f-4d04-aec6-4579dd8ee2dc",
   "metadata": {},
   "source": [
    "Задание №1 \n",
    "Написать приложение, которое собирает основные новости с сайта на выбор news.mail.ru, lenta.ru, yandex-новости. Для парсинга использовать XPath. Структура данных должна содержать:\n",
    "- название источника;\n",
    "- наименование новости;\n",
    "- ссылку на новость;\n",
    "- дата публикации."
   ]
  },
  {
   "cell_type": "markdown",
   "id": "b2ac002f-5df7-4e12-b7b3-0fc3dbdcd744",
   "metadata": {},
   "source": [
    "#### Импортируем"
   ]
  },
  {
   "cell_type": "code",
   "execution_count": 1,
   "id": "a6e4ae61-6514-48e4-bb25-49a32f7544c9",
   "metadata": {},
   "outputs": [],
   "source": [
    "from lxml import html\n",
    "import requests\n",
    "from datetime import datetime, timedelta\n",
    "import re"
   ]
  },
  {
   "cell_type": "markdown",
   "id": "17b9bb66-a246-4f2c-a4b9-4e1a30e36b44",
   "metadata": {},
   "source": [
    "#### Получаем страницу"
   ]
  },
  {
   "cell_type": "code",
   "execution_count": 2,
   "id": "b8a77a81-d743-4c48-b822-f5c4c9a2fd5b",
   "metadata": {},
   "outputs": [],
   "source": [
    "header = {'User-Agent': 'Mozilla/5.0 (Windows NT 10.0; Win64; x64) AppleWebKit/537.36 (KHTML, like Gecko) Chrome/92.0.4515.131 Safari/537.36'}\n",
    "response = requests.get('https://yandex.ru/news/', headers=header)\n",
    "dom = html.fromstring(response.text)"
   ]
  },
  {
   "cell_type": "markdown",
   "id": "aa8c91a6-f144-4b86-b155-3305dd709147",
   "metadata": {},
   "source": [
    "#### Инициализируем структуру dom"
   ]
  },
  {
   "cell_type": "code",
   "execution_count": 3,
   "id": "9763de95-b4a2-4330-85d3-a6f387faac2d",
   "metadata": {},
   "outputs": [],
   "source": [
    "news = dom.xpath(\"//div[contains(@class, 'mg-grid__col mg-grid__col')]/article[contains(@class, 'mg-card ')]\")\n",
    "news_list = []"
   ]
  },
  {
   "cell_type": "markdown",
   "id": "9fa33460-eb4f-4f52-ab90-5d1c2ce33c9e",
   "metadata": {},
   "source": [
    "#### Парсим страницу"
   ]
  },
  {
   "cell_type": "code",
   "execution_count": 4,
   "id": "1a0bb652-0fb8-48a1-bf5f-36cf29fb3e2a",
   "metadata": {},
   "outputs": [],
   "source": [
    "today = datetime.now().strftime('%Y-%m-%d')\n",
    "yesterday = (datetime.now() - timedelta(days=1)).strftime('%Y-%m-%d')\n",
    "\n",
    "for el in news:\n",
    "    name = ''.join(el.xpath(\".//h2/text()\")).replace('\\xa0', ' ')\n",
    "    link = ''.join(el.xpath(\".//a[@class='mg-card__link']/@href\"))\n",
    "    source_name = ''.join(el.xpath(\".//a[@class='mg-card__source-link']/text()\"))\n",
    "    time = ''.join(el.xpath(\".//span[@class='mg-card-source__time']/text()\"))\n",
    "    \n",
    "    if 'вчера' in time.lower():\n",
    "        time = ''.join(re.findall(r'\\d\\d:\\d\\d', time))\n",
    "        date_time = f'{yesterday} {time}'\n",
    "    else:\n",
    "        date_time = f'{today} {time}'\n",
    "        \n",
    "    news_list.append({'name': name,\n",
    "                     'link': link, \n",
    "                     'source_name': source_name,\n",
    "                     'date_time': date_time})"
   ]
  },
  {
   "cell_type": "raw",
   "id": "0f499c7a-327a-472a-bbac-5b098f316795",
   "metadata": {},
   "source": [
    "Задание №2 \n",
    "Сложить собранные данные в БД"
   ]
  },
  {
   "cell_type": "markdown",
   "id": "9277bac3-e5ab-4eb0-9347-e3c984b2d313",
   "metadata": {},
   "source": [
    "#### Импортируем"
   ]
  },
  {
   "cell_type": "code",
   "execution_count": 5,
   "id": "a84fb9ea-d724-4a12-8e01-cb00bbabc5f3",
   "metadata": {},
   "outputs": [],
   "source": [
    "from pymongo import MongoClient"
   ]
  },
  {
   "cell_type": "markdown",
   "id": "71afc77f-f481-4328-9bba-a0c459020466",
   "metadata": {},
   "source": [
    "#### Инициализируем БД"
   ]
  },
  {
   "cell_type": "code",
   "execution_count": 6,
   "id": "6e66b6bd-e6dd-428f-8334-a68a04ff4454",
   "metadata": {},
   "outputs": [],
   "source": [
    "client = MongoClient('localhost', 27017)\n",
    "db = client['news']\n",
    "yandex = db.yandex"
   ]
  },
  {
   "cell_type": "markdown",
   "id": "13e8cde1-0ce3-4ff0-a623-7f743b8bce7e",
   "metadata": {},
   "source": [
    "#### Добавляем собранные новости"
   ]
  },
  {
   "cell_type": "code",
   "execution_count": 7,
   "id": "21b5dfd6-21b5-4d72-bdc6-7095e120ead8",
   "metadata": {},
   "outputs": [
    {
     "data": {
      "text/plain": [
       "<pymongo.results.InsertManyResult at 0x2a206b78880>"
      ]
     },
     "execution_count": 7,
     "metadata": {},
     "output_type": "execute_result"
    }
   ],
   "source": [
    "yandex.insert_many(news_list)"
   ]
  },
  {
   "cell_type": "markdown",
   "id": "e79f84ac-2c59-43b7-b95f-c6b7a846a2da",
   "metadata": {},
   "source": [
    "#### Проверяем"
   ]
  },
  {
   "cell_type": "code",
   "execution_count": 9,
   "id": "e57dcefa-3a6c-4d11-a01c-3bb3572bbbc8",
   "metadata": {
    "tags": []
   },
   "outputs": [
    {
     "data": {
      "text/plain": [
       "[{'_id': ObjectId('6117df128ef0f04e47b68fce'),\n",
       "  'name': 'При крушении самолета Бе-200 Минобороны России в Турции погибли восемь человек',\n",
       "  'link': 'https://yandex.ru/news/story/Prikrushenii_samoleta_Be-200_Minoborony_Rossii_vTurcii_pogibli_vosem_chelovek--1628ab9bee19e6c3abcb729347dc2305?lang=ru&rubric=index&fan=1&stid=3TFtGGWDlqqLk7BjT-DW&t=1628953829&tt=true&persistent_id=155770129',\n",
       "  'source_name': 'ТАСС',\n",
       "  'date_time': '2021-08-14 18:08'},\n",
       " {'_id': ObjectId('6117df128ef0f04e47b68fcf'),\n",
       "  'name': 'Путин заявил о беспрецедентном характере природных бедствий в ряде регионов',\n",
       "  'link': 'https://yandex.ru/news/story/Putin_zayavil_obesprecedentnom_kharaktere_prirodnykh_bedstvij_vryade_regionov--4727b2183dd5d0a1d4fd2c28f0b9833d?lang=ru&rubric=index&fan=1&stid=1N8C2-D1hmQYnLeac9A_&t=1628953829&tt=true&persistent_id=155768399',\n",
       "  'source_name': 'RT на русском',\n",
       "  'date_time': '2021-08-14 17:55'},\n",
       " {'_id': ObjectId('6117df128ef0f04e47b68fd0'),\n",
       "  'name': 'В России третий день подряд фиксируют максимум смертей от коронавируса',\n",
       "  'link': 'https://yandex.ru/news/story/VRossii_tretij_den_podryad_fiksiruyut_maksimum_smertej_otkoronavirusa--bcbe2d3248e801bf340bf18289352bc5?lang=ru&rubric=index&fan=1&stid=e1I7_016_p5XnY7LsNNK&t=1628953829&tt=true&persistent_id=155758650',\n",
       "  'source_name': 'РИА Новости',\n",
       "  'date_time': '2021-08-14 17:47'},\n",
       " {'_id': ObjectId('6117df128ef0f04e47b68fd1'),\n",
       "  'name': 'Фанаты «Спартака» вывесили баннеры в адрес игроков команды во время матча с «Уралом»',\n",
       "  'link': 'https://yandex.ru/sport/story/Fanaty_Spartaka_vyvesili_bannery_vadres_igrokov_komandy_vo_vremya_matcha_sUralom--fbdff2562e8df14fa20c0edb687725c5?lang=ru&rubric=index&fan=1&stid=qWvJFuVHg583233FZL5P&t=1628953829&tt=true&persistent_id=155775932&utm_source=yxnews&utm_medium=desktop',\n",
       "  'source_name': 'Спорт-Экспресс',\n",
       "  'date_time': '2021-08-14 18:06'},\n",
       " {'_id': ObjectId('6117df128ef0f04e47b68fd2'),\n",
       "  'name': 'URA.RU: один из новых городов Сибири могут основать в Минусинской котловине',\n",
       "  'link': 'https://yandex.ru/news/story/URA.RU_odin_iznovykh_gorodov_Sibiri_mogut_osnovat_vMinusinskoj_kotlovine--b46565f1842b1ed49e018c5a14b173b4?lang=ru&rubric=index&fan=1&stid=uunz5KlB9UyVYUQy5Dqi&t=1628953829&tt=true&persistent_id=155758892',\n",
       "  'source_name': 'RT на русском',\n",
       "  'date_time': '2021-08-14 17:59'}]"
      ]
     },
     "execution_count": 9,
     "metadata": {},
     "output_type": "execute_result"
    }
   ],
   "source": [
    "list(yandex.find({}))[:5]"
   ]
  }
 ],
 "metadata": {
  "kernelspec": {
   "display_name": "Python 3",
   "language": "python",
   "name": "python3"
  },
  "language_info": {
   "codemirror_mode": {
    "name": "ipython",
    "version": 3
   },
   "file_extension": ".py",
   "mimetype": "text/x-python",
   "name": "python",
   "nbconvert_exporter": "python",
   "pygments_lexer": "ipython3",
   "version": "3.8.8"
  }
 },
 "nbformat": 4,
 "nbformat_minor": 5
}
